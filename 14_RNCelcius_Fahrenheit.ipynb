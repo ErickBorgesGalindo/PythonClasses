{
  "nbformat": 4,
  "nbformat_minor": 0,
  "metadata": {
    "colab": {
      "provenance": []
    },
    "kernelspec": {
      "name": "python3",
      "display_name": "Python 3"
    },
    "language_info": {
      "name": "python"
    }
  },
  "cells": [
    {
      "cell_type": "code",
      "execution_count": null,
      "metadata": {
        "id": "LxWy0XhbLm7H"
      },
      "outputs": [],
      "source": [
        "import tensorflow as tf #Libreria de IA diseñada por google\n",
        "import numpy as np #Facilita el trabajo con arreglos numericos"
      ]
    },
    {
      "cell_type": "code",
      "source": [
        "#Declarar valores entrada / salida\n",
        "celsius = np.array([-40, -10, 0, 8, 15, 22, 38], dtype=float)\n",
        "fahrenheit = np.array([-40, 14, 32, 46, 59, 72, 100], dtype=float)"
      ],
      "metadata": {
        "id": "5VQj1zyEMCTa"
      },
      "execution_count": null,
      "outputs": []
    },
    {
      "cell_type": "code",
      "source": [
        "#Capas\n",
        "#Keras facilita el trabajo con redes neuronales (ahorra codigo)\n",
        "capa = tf.keras.layers.Dense(units=1, input_shape=[1])\n",
        "\n",
        "modelo = tf.keras.Sequential([capa])"
      ],
      "metadata": {
        "id": "nTKZHtQqMro8"
      },
      "execution_count": null,
      "outputs": []
    },
    {
      "cell_type": "code",
      "source": [
        "#Empezar el entrenamiento\n",
        "modelo.compile(\n",
        "    #Declaramos un optimizador que nos va a dar\n",
        "    #Los ajustes de peso y sesgo\n",
        "    optimizer = tf.keras.optimizers.Adam(0.1),\n",
        "    #Calculo del error\n",
        "    loss = 'mean_squared_error'\n",
        ")"
      ],
      "metadata": {
        "id": "8IcjSHZJNrKN"
      },
      "execution_count": null,
      "outputs": []
    },
    {
      "cell_type": "code",
      "source": [
        "print(\"Comenzando el entrenamiento...\")\n",
        "historial = modelo.fit(celsius, fahrenheit, epochs=1000, verbose=False)\n",
        "print(\"Modelo entrenado 😀\")"
      ],
      "metadata": {
        "colab": {
          "base_uri": "https://localhost:8080/"
        },
        "id": "4aH_3ookO0pd",
        "outputId": "3186803d-7f79-4e66-c479-812c5df70dc1"
      },
      "execution_count": null,
      "outputs": [
        {
          "output_type": "stream",
          "name": "stdout",
          "text": [
            "Comenzando el entrenamiento...\n",
            "Modelo entrenado 😀\n"
          ]
        }
      ]
    },
    {
      "cell_type": "code",
      "source": [
        "#Vamos a graficar el error\n",
        "import matplotlib.pyplot as plt\n",
        "plt.xlabel(\"# Pasos\")\n",
        "plt.ylabel(\"Magnitud de perdida\")\n",
        "plt.plot (historial.history[\"loss\"])"
      ],
      "metadata": {
        "colab": {
          "base_uri": "https://localhost:8080/",
          "height": 297
        },
        "id": "1mEumD4cPytU",
        "outputId": "abeea0e7-cbfa-41a1-cf3e-aa1bb41630c1"
      },
      "execution_count": null,
      "outputs": [
        {
          "output_type": "execute_result",
          "data": {
            "text/plain": [
              "[<matplotlib.lines.Line2D at 0x7fc5281c6d60>]"
            ]
          },
          "metadata": {},
          "execution_count": 17
        },
        {
          "output_type": "display_data",
          "data": {
            "text/plain": [
              "<Figure size 432x288 with 1 Axes>"
            ],
            "image/png": "[encoded data removed]"
          },
          "metadata": {
            "needs_background": "light"
          }
        }
      ]
    },
    {
      "cell_type": "code",
      "source": [
        "#Hacer una predicción\n",
        "print(\"Hagamos una predicción\")\n",
        "resultado = modelo.predict([100.00])\n",
        "print(\"El resultado es\" +str(resultado)+ \" Fahrenheit\")"
      ],
      "metadata": {
        "colab": {
          "base_uri": "https://localhost:8080/"
        },
        "id": "yscpa5MaRsvR",
        "outputId": "88bc9456-44ed-4111-90ce-cd769edce6df"
      },
      "execution_count": null,
      "outputs": [
        {
          "output_type": "stream",
          "name": "stdout",
          "text": [
            "Hagamos una predicción\n",
            "1/1 [==============================] - 0s 63ms/step\n",
            "El resultado es[[211.74307]] Fahrenheit\n"
          ]
        }
      ]
    },
    {
      "cell_type": "code",
      "source": [
        "#Variables asignadas\n",
        "print(\"Variables del modelo\")\n",
        "print(capa.get_weights())"
      ],
      "metadata": {
        "colab": {
          "base_uri": "https://localhost:8080/"
        },
        "id": "JEYYF_pISWjm",
        "outputId": "60ac55e0-9389-4c59-b91f-0fd0e63f8956"
      },
      "execution_count": null,
      "outputs": [
        {
          "output_type": "stream",
          "name": "stdout",
          "text": [
            "Variables del modelo\n",
            "[array([[1.798205]], dtype=float32), array([31.922575], dtype=float32)]\n"
          ]
        }
      ]
    }
  ]
}