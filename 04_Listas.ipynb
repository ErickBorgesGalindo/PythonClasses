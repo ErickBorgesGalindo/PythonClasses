{
  "nbformat": 4,
  "nbformat_minor": 0,
  "metadata": {
    "colab": {
      "provenance": []
    },
    "kernelspec": {
      "name": "python3",
      "display_name": "Python 3"
    },
    "language_info": {
      "name": "python"
    }
  },
  "cells": [
    {
      "cell_type": "markdown",
      "source": [
        "<h1><b>L I S T A  S</b></h1>"
      ],
      "metadata": {
        "id": "DBGfr0bfYgWi"
      }
    },
    {
      "cell_type": "markdown",
      "source": [
        "Dentro de programación existen distintas maneras de almacenar la información:\n",
        "\n",
        "*   Tuple\n",
        "*   Set\n",
        "*   Dictionary\n",
        "*   Lists\n",
        "\n",
        "La ultima es la que analizaremos en esta ocasión.\n",
        "\n",
        "Una <b>Lista</b> es una colección de diferenes tipos de datos que tienen un orden modificable. Una lista puede estar vacía o contener distintos tipos de items.\n",
        "\n",
        "Si esta definición no les suena o les parece un poco complicada, tal vez sería más fácil compararlas con lo que anteriormente vimos como <b>Array</b>\n",
        "\n"
      ],
      "metadata": {
        "id": "EzTbyHurYtLw"
      }
    },
    {
      "cell_type": "code",
      "execution_count": null,
      "metadata": {
        "id": "wUmv83GJX_EY"
      },
      "outputs": [],
      "source": [
        "my_list = list() #Primera forma de declarar una lista\n",
        "other_list = [] #Segunda forma de declarar una lista\n",
        "\n",
        "print(len(my_list))\n",
        "print(len(other_list))"
      ]
    },
    {
      "cell_type": "code",
      "source": [
        "my_list = [4,5,6,7,8,9]\n",
        "print(my_list)\n",
        "print(type(my_list))\n",
        "print(len(my_list))\n",
        "print(my_list[0])"
      ],
      "metadata": {
        "id": "ySIrufAlbkyQ"
      },
      "execution_count": null,
      "outputs": []
    },
    {
      "cell_type": "code",
      "source": [
        "other_list = [1, 2.5, 3, 'Erick', 'Borges', 'Aguilar', 'Morales','Borges']\n",
        "print(other_list)\n",
        "print(type(other_list))"
      ],
      "metadata": {
        "id": "H2_MCUYOb0tu"
      },
      "execution_count": null,
      "outputs": []
    },
    {
      "cell_type": "code",
      "source": [
        "print(other_list[0])\n",
        "print(other_list[-1])"
      ],
      "metadata": {
        "id": "7qrvWfgacTWS"
      },
      "execution_count": null,
      "outputs": []
    },
    {
      "cell_type": "markdown",
      "source": [
        "<h3><b>Contar componentes de una lista</b></h3>"
      ],
      "metadata": {
        "id": "yaeBDdkadSOY"
      }
    },
    {
      "cell_type": "code",
      "source": [
        "print(other_list.count(\"Borges\"))"
      ],
      "metadata": {
        "id": "OhFXE2m0dNIK"
      },
      "execution_count": null,
      "outputs": []
    },
    {
      "cell_type": "markdown",
      "source": [
        "<h3><b>Agregar componentes a una lista</b></h3>"
      ],
      "metadata": {
        "id": "vN2uLseFdt8Z"
      }
    },
    {
      "cell_type": "code",
      "source": [
        "frutas = ['banana', 'naranja', 'mango', 'limon' ]\n",
        "print(frutas)\n",
        "frutas.append('manzana')\n",
        "print(frutas)\n",
        "frutas.append('aguacate')\n",
        "print(frutas)"
      ],
      "metadata": {
        "id": "hpZ-1f9AdzbL"
      },
      "execution_count": null,
      "outputs": []
    },
    {
      "cell_type": "markdown",
      "source": [
        "<h3><b>Insertar componentes a una lista</b></h3>"
      ],
      "metadata": {
        "id": "v5ko2pATeVZn"
      }
    },
    {
      "cell_type": "code",
      "source": [
        "frutas = ['banana', 'naranja', 'mango', 'limon' ]\n",
        "print(frutas)\n",
        "frutas.insert(2, 'manzana')\n",
        "print(frutas)\n",
        "frutas.insert(3, 'aguacate')\n",
        "print(frutas)"
      ],
      "metadata": {
        "id": "6hDI0N9beXQX"
      },
      "execution_count": null,
      "outputs": []
    },
    {
      "cell_type": "markdown",
      "source": [
        "<h3><b>Remover componentes a una lista</b></h3>"
      ],
      "metadata": {
        "id": "enmRMHs_epGV"
      }
    },
    {
      "cell_type": "code",
      "source": [
        "frutas = ['banana', 'naranja', 'mango', 'limon', 'manzana', 'aguacate', 'manzana', 'Manzana' ]\n",
        "print(frutas)\n",
        "frutas.remove('manzana')\n",
        "print(frutas)\n",
        "frutas.remove('aguacate')\n",
        "print(frutas)"
      ],
      "metadata": {
        "id": "UREm9-qqeqhu"
      },
      "execution_count": null,
      "outputs": []
    },
    {
      "cell_type": "markdown",
      "source": [
        "<h3><b>Unir listas</b></h3>"
      ],
      "metadata": {
        "id": "zek9ijIcfjTB"
      }
    },
    {
      "cell_type": "code",
      "source": [
        "positivos = [1, 2, 3, 4]\n",
        "cero = [0]\n",
        "negativos = [-1, -2, -3, -4]\n",
        "\n",
        "enteros = negativos + cero + positivos\n",
        "\n",
        "print(enteros)\n",
        "print(len(enteros))"
      ],
      "metadata": {
        "id": "miy4OJklfjH-"
      },
      "execution_count": null,
      "outputs": []
    }
  ]
}